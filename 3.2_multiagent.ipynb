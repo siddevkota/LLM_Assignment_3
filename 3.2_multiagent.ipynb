{
 "cells": [
  {
   "cell_type": "markdown",
   "id": "4edb1d11",
   "metadata": {},
   "source": [
    "# Assignment 3.2\n",
    "Design a simple multi-agent LLM system where each agent is responsible for a subtask (e.g., planning, summarizing, answering). Agents communicate via message passing using a shared memory structure."
   ]
  },
  {
   "cell_type": "code",
   "execution_count": 1,
   "id": "5eafdd42",
   "metadata": {},
   "outputs": [
    {
     "name": "stderr",
     "output_type": "stream",
     "text": [
      "c:\\Users\\siddh\\OneDrive\\Desktop\\LLM_course\\.venv\\lib\\site-packages\\tqdm\\auto.py:21: TqdmWarning: IProgress not found. Please update jupyter and ipywidgets. See https://ipywidgets.readthedocs.io/en/stable/user_install.html\n",
      "  from .autonotebook import tqdm as notebook_tqdm\n"
     ]
    }
   ],
   "source": [
    "from transformers import pipeline, AutoModelForSeq2SeqLM, AutoTokenizer"
   ]
  },
  {
   "cell_type": "code",
   "execution_count": 2,
   "id": "c0f78a69",
   "metadata": {},
   "outputs": [
    {
     "name": "stderr",
     "output_type": "stream",
     "text": [
      "Xet Storage is enabled for this repo, but the 'hf_xet' package is not installed. Falling back to regular HTTP download. For better performance, install the package with: `pip install huggingface_hub[hf_xet]` or `pip install hf_xet`\n",
      "Xet Storage is enabled for this repo, but the 'hf_xet' package is not installed. Falling back to regular HTTP download. For better performance, install the package with: `pip install huggingface_hub[hf_xet]` or `pip install hf_xet`\n",
      "Xet Storage is enabled for this repo, but the 'hf_xet' package is not installed. Falling back to regular HTTP download. For better performance, install the package with: `pip install huggingface_hub[hf_xet]` or `pip install hf_xet`\n",
      "Device set to use cpu\n",
      "Device set to use cpu\n"
     ]
    }
   ],
   "source": [
    "model_id = \"google/flan-t5-base\"\n",
    "tokenizer = AutoTokenizer.from_pretrained(model_id)\n",
    "model = AutoModelForSeq2SeqLM.from_pretrained(model_id)\n",
    "llm_pipe = pipeline(\"text2text-generation\", model=model, tokenizer=tokenizer, max_new_tokens=200)"
   ]
  },
  {
   "cell_type": "markdown",
   "id": "e4544dc8",
   "metadata": {},
   "source": [
    "### Shared Memory for Message Passing\n",
    "A simple dictionary is used as shared memory for agent communication."
   ]
  },
  {
   "cell_type": "code",
   "execution_count": 3,
   "id": "15f66434",
   "metadata": {},
   "outputs": [],
   "source": [
    "class SharedMemory:\n",
    "    def __init__(self):\n",
    "        self.memory = {}\n",
    "    def write(self, key, value):\n",
    "        self.memory[key] = value\n",
    "    def read(self, key):\n",
    "        return self.memory.get(key, None)"
   ]
  },
  {
   "cell_type": "markdown",
   "id": "68923c67",
   "metadata": {},
   "source": [
    "### Planner Agent\n",
    "Breaks down the main query into subtasks and writes them to shared memory."
   ]
  },
  {
   "cell_type": "code",
   "execution_count": 4,
   "id": "0e3f5a56",
   "metadata": {},
   "outputs": [],
   "source": [
    "class PlannerAgent:\n",
    "    def __init__(self, memory):\n",
    "        self.memory = memory\n",
    "    def plan(self, question):\n",
    "        prompt = f\"Break the following task into 2-3 subtasks:\\n{question}\"\n",
    "        response = llm_pipe(prompt)[0][\"generated_text\"]\n",
    "        subtasks = [task.strip() for task in response.split('\\n') if task.strip()]\n",
    "        self.memory.write('subtasks', subtasks)"
   ]
  },
  {
   "cell_type": "markdown",
   "id": "563085e6",
   "metadata": {},
   "source": [
    "### Answer Agent\n",
    "Answers each subtask using context and writes answers to shared memory."
   ]
  },
  {
   "cell_type": "code",
   "execution_count": 5,
   "id": "2d777cb4",
   "metadata": {},
   "outputs": [],
   "source": [
    "class AnswerAgent:\n",
    "    def __init__(self, memory):\n",
    "        self.memory = memory\n",
    "    def answer(self, context_provider):\n",
    "        subtasks = self.memory.read('subtasks')\n",
    "        answers = []\n",
    "        for subtask in subtasks:\n",
    "            context = context_provider(subtask)\n",
    "            prompt = f\"Answer this subtask using the given context.\\nSubtask: {subtask}\\nContext: {context}\\nAnswer:\"\n",
    "            answer = llm_pipe(prompt)[0][\"generated_text\"]\n",
    "            answers.append(answer)\n",
    "        self.memory.write('answers', answers)"
   ]
  },
  {
   "cell_type": "markdown",
   "id": "c6d44aaf",
   "metadata": {},
   "source": [
    "### Summarizer Agent\n",
    "Summarizes all answers and writes the summary to shared memory."
   ]
  },
  {
   "cell_type": "code",
   "execution_count": 6,
   "id": "b336b715",
   "metadata": {},
   "outputs": [],
   "source": [
    "class SummarizerAgent:\n",
    "    def __init__(self, memory):\n",
    "        self.memory = memory\n",
    "    def summarize(self):\n",
    "        answers = self.memory.read('answers')\n",
    "        prompt = f\"Summarize the following responses into a concise final answer:\\n{' '.join(answers)}\"\n",
    "        summary = llm_pipe(prompt)[0][\"generated_text\"]\n",
    "        self.memory.write('summary', summary)"
   ]
  },
  {
   "cell_type": "markdown",
   "id": "e52451d3",
   "metadata": {},
   "source": [
    "### Simulated Context Provider"
   ]
  },
  {
   "cell_type": "code",
   "execution_count": 7,
   "id": "1d0b2b5e",
   "metadata": {},
   "outputs": [],
   "source": [
    "def provide_context(subtask):\n",
    "    context_map = {\n",
    "        \"Find recent data on climate change effects.\": \"Global temperatures have risen by ~1.2°C since pre-industrial times...\",\n",
    "        \"Analyze how temperature changes affect crop yields.\": \"Higher temperatures reduce wheat and rice yields due to heat stress...\",\n",
    "        \"Summarize agricultural adaptation strategies.\": \"Farmers are adopting drought-resistant crops, precision irrigation, and agroforestry...\"\n",
    "    }\n",
    "    return context_map.get(subtask, \"No context available.\")"
   ]
  },
  {
   "cell_type": "markdown",
   "id": "3157e1b7",
   "metadata": {},
   "source": [
    "### Run Multi-Agent System with Message Passing"
   ]
  },
  {
   "cell_type": "code",
   "execution_count": 8,
   "id": "3100424a",
   "metadata": {},
   "outputs": [
    {
     "name": "stdout",
     "output_type": "stream",
     "text": [
      "Planning Subtasks...\n",
      "Subtasks: ['The impact of climate change on global agriculture.']\n",
      "\n",
      "Solving Subtasks...\n",
      "Subtasks: ['The impact of climate change on global agriculture.']\n",
      "\n",
      "Solving Subtasks...\n",
      "\n",
      "✅ The impact of climate change on global agriculture.\n",
      "There is no evidence that climate change has a negative impact on global agriculture.\n",
      "\n",
      "Final Summary:\n",
      "\n",
      "✅ The impact of climate change on global agriculture.\n",
      "There is no evidence that climate change has a negative impact on global agriculture.\n",
      "\n",
      "Final Summary:\n",
      "It is not clear whether climate change has a negative impact on global agriculture.\n",
      "It is not clear whether climate change has a negative impact on global agriculture.\n"
     ]
    }
   ],
   "source": [
    "if __name__ == \"__main__\":\n",
    "    memory = SharedMemory()\n",
    "    planner = PlannerAgent(memory)\n",
    "    answerer = AnswerAgent(memory)\n",
    "    summarizer = SummarizerAgent(memory)\n",
    "\n",
    "    user_query = \"Explain the impact of climate change on global agriculture.\"\n",
    "\n",
    "    print(\"Planning Subtasks...\")\n",
    "    planner.plan(user_query)\n",
    "    print(\"Subtasks:\", memory.read('subtasks'))\n",
    "\n",
    "    print(\"\\nSolving Subtasks...\")\n",
    "    answerer.answer(provide_context)\n",
    "    for subtask, answer in zip(memory.read('subtasks'), memory.read('answers')):\n",
    "        print(f\"\\n✅ {subtask}\\n{answer}\")\n",
    "\n",
    "    print(\"\\nFinal Summary:\")\n",
    "    summarizer.summarize()\n",
    "    print(memory.read('summary'))"
   ]
  }
 ],
 "metadata": {
  "kernelspec": {
   "display_name": ".venv",
   "language": "python",
   "name": "python3"
  },
  "language_info": {
   "codemirror_mode": {
    "name": "ipython",
    "version": 3
   },
   "file_extension": ".py",
   "mimetype": "text/x-python",
   "name": "python",
   "nbconvert_exporter": "python",
   "pygments_lexer": "ipython3",
   "version": "3.10.10"
  }
 },
 "nbformat": 4,
 "nbformat_minor": 5
}
