{
 "cells": [
  {
   "cell_type": "markdown",
   "id": "dc09b447",
   "metadata": {},
   "source": [
    "# Assignment 3.3\n",
    "Fine-tune a pre-trained transformer on a classification task (e.g., sentiment analysis or intent classification). Analyze the trade-offs between accuracy, training time, and memory usage for different fine-tuning techniques."
   ]
  },
  {
   "cell_type": "code",
   "execution_count": 1,
   "id": "114e8f3f",
   "metadata": {},
   "outputs": [
    {
     "name": "stderr",
     "output_type": "stream",
     "text": [
      "c:\\Users\\siddh\\OneDrive\\Desktop\\LLM_course\\.venv\\lib\\site-packages\\tqdm\\auto.py:21: TqdmWarning: IProgress not found. Please update jupyter and ipywidgets. See https://ipywidgets.readthedocs.io/en/stable/user_install.html\n",
      "  from .autonotebook import tqdm as notebook_tqdm\n"
     ]
    },
    {
     "name": "stdout",
     "output_type": "stream",
     "text": [
      "WARNING:tensorflow:From c:\\Users\\siddh\\OneDrive\\Desktop\\LLM_course\\.venv\\lib\\site-packages\\tf_keras\\src\\losses.py:2976: The name tf.losses.sparse_softmax_cross_entropy is deprecated. Please use tf.compat.v1.losses.sparse_softmax_cross_entropy instead.\n",
      "\n"
     ]
    }
   ],
   "source": [
    "from transformers import AutoTokenizer, AutoModelForSequenceClassification, TrainingArguments, Trainer\n",
    "from datasets import load_dataset\n",
    "from peft import LoraConfig, get_peft_model\n",
    "from sklearn.metrics import accuracy_score\n",
    "import torch\n",
    "import time\n",
    "import psutil"
   ]
  },
  {
   "cell_type": "markdown",
   "id": "cdc5af0e",
   "metadata": {},
   "source": [
    "## 1. Load Model and Tokenizer"
   ]
  },
  {
   "cell_type": "code",
   "execution_count": 2,
   "id": "9e098bd7",
   "metadata": {},
   "outputs": [
    {
     "name": "stderr",
     "output_type": "stream",
     "text": [
      "Some weights of DistilBertForSequenceClassification were not initialized from the model checkpoint at distilbert-base-uncased and are newly initialized: ['classifier.bias', 'classifier.weight', 'pre_classifier.bias', 'pre_classifier.weight']\n",
      "You should probably TRAIN this model on a down-stream task to be able to use it for predictions and inference.\n",
      "Some weights of DistilBertForSequenceClassification were not initialized from the model checkpoint at distilbert-base-uncased and are newly initialized: ['classifier.bias', 'classifier.weight', 'pre_classifier.bias', 'pre_classifier.weight']\n",
      "You should probably TRAIN this model on a down-stream task to be able to use it for predictions and inference.\n",
      "Some weights of DistilBertForSequenceClassification were not initialized from the model checkpoint at distilbert-base-uncased and are newly initialized: ['classifier.bias', 'classifier.weight', 'pre_classifier.bias', 'pre_classifier.weight']\n",
      "You should probably TRAIN this model on a down-stream task to be able to use it for predictions and inference.\n"
     ]
    }
   ],
   "source": [
    "model_ckpt = \"distilbert-base-uncased\"\n",
    "tokenizer = AutoTokenizer.from_pretrained(model_ckpt)\n",
    "\n",
    "# Prepare two models: one for full fine-tuning, one for LoRA\n",
    "model_full = AutoModelForSequenceClassification.from_pretrained(model_ckpt, num_labels=2)\n",
    "model_lora = AutoModelForSequenceClassification.from_pretrained(model_ckpt, num_labels=2)"
   ]
  },
  {
   "cell_type": "markdown",
   "id": "b1796531",
   "metadata": {},
   "source": [
    "## 2. Load and Preprocess Data\n",
    "Using the IMDB dataset for binary sentiment classification."
   ]
  },
  {
   "cell_type": "code",
   "execution_count": 3,
   "id": "a4b6ac81",
   "metadata": {},
   "outputs": [
    {
     "name": "stderr",
     "output_type": "stream",
     "text": [
      "Map: 100%|██████████| 25000/25000 [00:07<00:00, 3458.47 examples/s]\n",
      "\n"
     ]
    }
   ],
   "source": [
    "dataset = load_dataset(\"imdb\")\n",
    "\n",
    "def preprocess(example):\n",
    "    return tokenizer(example[\"text\"], padding=\"max_length\", truncation=True, max_length=128)\n",
    "\n",
    "tokenized = dataset.map(preprocess, batched=True)\n",
    "train_data = tokenized[\"train\"].shuffle(seed=1).select(range(800))\n",
    "test_data = tokenized[\"test\"].shuffle(seed=1).select(range(200))"
   ]
  },
  {
   "cell_type": "markdown",
   "id": "475a3983",
   "metadata": {},
   "source": [
    "## 3. LoRA Parameter-Efficient Fine-Tuning"
   ]
  },
  {
   "cell_type": "code",
   "execution_count": 4,
   "id": "d3014a42",
   "metadata": {},
   "outputs": [
    {
     "name": "stdout",
     "output_type": "stream",
     "text": [
      "trainable params: 628,994 || all params: 67,584,004 || trainable%: 0.9307\n"
     ]
    }
   ],
   "source": [
    "lora_cfg = LoraConfig(\n",
    "    r=4,\n",
    "    lora_alpha=8,\n",
    "    target_modules=[\"q_lin\"],\n",
    "    lora_dropout=0.05,\n",
    "    bias=\"none\",\n",
    "    task_type=\"SEQ_CLS\"\n",
    ")\n",
    "model_lora = get_peft_model(model_lora, lora_cfg)\n",
    "model_lora.print_trainable_parameters()"
   ]
  },
  {
   "cell_type": "markdown",
   "id": "53e7e2ff",
   "metadata": {},
   "source": [
    "## 4. Training and Evaluation Utility"
   ]
  },
  {
   "cell_type": "code",
   "execution_count": 5,
   "id": "9abf92a5",
   "metadata": {},
   "outputs": [],
   "source": [
    "def compute_metrics(eval_pred):\n",
    "    logits, labels = eval_pred\n",
    "    predictions = logits.argmax(axis=-1)\n",
    "    acc = accuracy_score(labels, predictions)\n",
    "    return {\"accuracy\": acc}\n",
    "\n",
    "def train_eval(model, train, test, label):\n",
    "    args = TrainingArguments(\n",
    "        output_dir=f\"results_{label}\",\n",
    "        learning_rate=3e-4,\n",
    "        per_device_train_batch_size=8,\n",
    "        num_train_epochs=1,\n",
    "        weight_decay=0.01,\n",
    "        eval_strategy=\"epoch\",\n",
    "        save_strategy=\"no\",\n",
    "        logging_dir=\"logs\",\n",
    "        logging_steps=10,\n",
    "        report_to=\"none\"\n",
    "    )\n",
    "    trainer = Trainer(\n",
    "        model=model,\n",
    "        args=args,\n",
    "        train_dataset=train,\n",
    "        eval_dataset=test,\n",
    "        tokenizer=tokenizer,\n",
    "        compute_metrics=compute_metrics\n",
    "    )\n",
    "    process = psutil.Process()\n",
    "    mem_before = process.memory_info().rss / 1e6\n",
    "    t0 = time.time()\n",
    "    trainer.train()\n",
    "    t1 = time.time()\n",
    "    mem_after = process.memory_info().rss / 1e6\n",
    "    eval_result = trainer.evaluate()\n",
    "    print(f\"\\n{label} Results:\")\n",
    "    print(f\"Accuracy: {eval_result.get('eval_accuracy', eval_result.get('accuracy', 'N/A'))}\")\n",
    "    print(f\"Training Time: {t1-t0:.2f} seconds\")\n",
    "    print(f\"Memory Usage: {mem_after-mem_before:.2f} MB (approximate)\")\n",
    "    return eval_result, t1-t0, mem_after-mem_before"
   ]
  },
  {
   "cell_type": "markdown",
   "id": "d6b41a91",
   "metadata": {},
   "source": [
    "## 5. Run Experiments"
   ]
  },
  {
   "cell_type": "code",
   "execution_count": 6,
   "id": "1f499b83",
   "metadata": {},
   "outputs": [
    {
     "name": "stderr",
     "output_type": "stream",
     "text": [
      "C:\\Users\\siddh\\AppData\\Local\\Temp\\ipykernel_23280\\945051644.py:20: FutureWarning: `tokenizer` is deprecated and will be removed in version 5.0.0 for `Trainer.__init__`. Use `processing_class` instead.\n",
      "  trainer = Trainer(\n",
      "c:\\Users\\siddh\\OneDrive\\Desktop\\LLM_course\\.venv\\lib\\site-packages\\torch\\utils\\data\\dataloader.py:665: UserWarning: 'pin_memory' argument is set as true but no accelerator is found, then device pinned memory won't be used.\n",
      "  warnings.warn(warn_msg)\n",
      "c:\\Users\\siddh\\OneDrive\\Desktop\\LLM_course\\.venv\\lib\\site-packages\\torch\\utils\\data\\dataloader.py:665: UserWarning: 'pin_memory' argument is set as true but no accelerator is found, then device pinned memory won't be used.\n",
      "  warnings.warn(warn_msg)\n"
     ]
    },
    {
     "data": {
      "text/html": [
       "\n",
       "    <div>\n",
       "      \n",
       "      <progress value='100' max='100' style='width:300px; height:20px; vertical-align: middle;'></progress>\n",
       "      [100/100 04:16, Epoch 1/1]\n",
       "    </div>\n",
       "    <table border=\"1\" class=\"dataframe\">\n",
       "  <thead>\n",
       " <tr style=\"text-align: left;\">\n",
       "      <th>Epoch</th>\n",
       "      <th>Training Loss</th>\n",
       "      <th>Validation Loss</th>\n",
       "      <th>Accuracy</th>\n",
       "    </tr>\n",
       "  </thead>\n",
       "  <tbody>\n",
       "    <tr>\n",
       "      <td>1</td>\n",
       "      <td>0.691300</td>\n",
       "      <td>0.694215</td>\n",
       "      <td>0.465000</td>\n",
       "    </tr>\n",
       "  </tbody>\n",
       "</table><p>"
      ],
      "text/plain": [
       "<IPython.core.display.HTML object>"
      ]
     },
     "metadata": {},
     "output_type": "display_data"
    },
    {
     "name": "stderr",
     "output_type": "stream",
     "text": [
      "c:\\Users\\siddh\\OneDrive\\Desktop\\LLM_course\\.venv\\lib\\site-packages\\torch\\utils\\data\\dataloader.py:665: UserWarning: 'pin_memory' argument is set as true but no accelerator is found, then device pinned memory won't be used.\n",
      "  warnings.warn(warn_msg)\n"
     ]
    },
    {
     "data": {
      "text/html": [
       "\n",
       "    <div>\n",
       "      \n",
       "      <progress value='25' max='25' style='width:300px; height:20px; vertical-align: middle;'></progress>\n",
       "      [25/25 00:12]\n",
       "    </div>\n",
       "    "
      ],
      "text/plain": [
       "<IPython.core.display.HTML object>"
      ]
     },
     "metadata": {},
     "output_type": "display_data"
    },
    {
     "name": "stderr",
     "output_type": "stream",
     "text": [
      "C:\\Users\\siddh\\AppData\\Local\\Temp\\ipykernel_23280\\945051644.py:20: FutureWarning: `tokenizer` is deprecated and will be removed in version 5.0.0 for `Trainer.__init__`. Use `processing_class` instead.\n",
      "  trainer = Trainer(\n",
      "No label_names provided for model class `PeftModelForSequenceClassification`. Since `PeftModel` hides base models input arguments, if label_names is not given, label_names can't be set automatically within `Trainer`. Note that empty label_names list will be used instead.\n"
     ]
    },
    {
     "name": "stdout",
     "output_type": "stream",
     "text": [
      "\n",
      "FullFineTune Results:\n",
      "Accuracy: 0.465\n",
      "Training Time: 259.53 seconds\n",
      "Memory Usage: 1261.50 MB (approximate)\n"
     ]
    },
    {
     "name": "stderr",
     "output_type": "stream",
     "text": [
      "c:\\Users\\siddh\\OneDrive\\Desktop\\LLM_course\\.venv\\lib\\site-packages\\torch\\utils\\data\\dataloader.py:665: UserWarning: 'pin_memory' argument is set as true but no accelerator is found, then device pinned memory won't be used.\n",
      "  warnings.warn(warn_msg)\n"
     ]
    },
    {
     "data": {
      "text/html": [
       "\n",
       "    <div>\n",
       "      \n",
       "      <progress value='100' max='100' style='width:300px; height:20px; vertical-align: middle;'></progress>\n",
       "      [100/100 03:02, Epoch 1/1]\n",
       "    </div>\n",
       "    <table border=\"1\" class=\"dataframe\">\n",
       "  <thead>\n",
       " <tr style=\"text-align: left;\">\n",
       "      <th>Epoch</th>\n",
       "      <th>Training Loss</th>\n",
       "      <th>Validation Loss</th>\n",
       "      <th>Accuracy</th>\n",
       "    </tr>\n",
       "  </thead>\n",
       "  <tbody>\n",
       "    <tr>\n",
       "      <td>1</td>\n",
       "      <td>0.599600</td>\n",
       "      <td>0.608323</td>\n",
       "      <td>0.740000</td>\n",
       "    </tr>\n",
       "  </tbody>\n",
       "</table><p>"
      ],
      "text/plain": [
       "<IPython.core.display.HTML object>"
      ]
     },
     "metadata": {},
     "output_type": "display_data"
    },
    {
     "name": "stderr",
     "output_type": "stream",
     "text": [
      "c:\\Users\\siddh\\OneDrive\\Desktop\\LLM_course\\.venv\\lib\\site-packages\\torch\\utils\\data\\dataloader.py:665: UserWarning: 'pin_memory' argument is set as true but no accelerator is found, then device pinned memory won't be used.\n",
      "  warnings.warn(warn_msg)\n"
     ]
    },
    {
     "data": {
      "text/html": [
       "\n",
       "    <div>\n",
       "      \n",
       "      <progress value='25' max='25' style='width:300px; height:20px; vertical-align: middle;'></progress>\n",
       "      [25/25 00:11]\n",
       "    </div>\n",
       "    "
      ],
      "text/plain": [
       "<IPython.core.display.HTML object>"
      ]
     },
     "metadata": {},
     "output_type": "display_data"
    },
    {
     "name": "stdout",
     "output_type": "stream",
     "text": [
      "\n",
      "LoRA Results:\n",
      "Accuracy: 0.74\n",
      "Training Time: 184.91 seconds\n",
      "Memory Usage: 88.94 MB (approximate)\n"
     ]
    }
   ],
   "source": [
    "# Full fine-tuning\n",
    "full_result, full_time, full_mem = train_eval(model_full, train_data, test_data, \"FullFineTune\")\n",
    "\n",
    "# LoRA fine-tuning\n",
    "lora_result, lora_time, lora_mem = train_eval(model_lora, train_data, test_data, \"LoRA\")"
   ]
  },
  {
   "cell_type": "markdown",
   "id": "ddf56230",
   "metadata": {},
   "source": [
    "## 6. Discussion\n",
    "\n",
    "**Trade-offs between Full Fine-Tuning and LoRA:**\n",
    "\n",
    "- **Accuracy:**  \n",
    "  Full fine-tuning achieved an accuracy of **0.465**, while LoRA fine-tuning achieved a much higher accuracy of **0.74**. This suggests that, for this experiment, LoRA not only matched but outperformed full fine-tuning in terms of classification accuracy.\n",
    "\n",
    "- **Training Time:**  \n",
    "  Full fine-tuning required **259.53 seconds**, whereas LoRA fine-tuning completed in **184.91 seconds**. LoRA reduced training time by about 29%, making it more efficient for rapid experimentation or deployment.\n",
    "\n",
    "- **Memory Usage:**  \n",
    "  Full fine-tuning used **1261.50 MB** of memory, while LoRA used only **88.94 MB**. This is a dramatic reduction (over 90% less memory), highlighting LoRA's suitability for environments with limited resources.\n",
    "\n",
    "Hence, LoRA fine-tuning provided better accuracy, faster training, and drastically lower memory usage compared to full fine-tuning in this experiment. This demonstrates the effectiveness and efficiency of parameter-efficient fine-tuning methods like LoRA, especially for large models or when computational resources are limited."
   ]
  }
 ],
 "metadata": {
  "kernelspec": {
   "display_name": ".venv",
   "language": "python",
   "name": "python3"
  },
  "language_info": {
   "codemirror_mode": {
    "name": "ipython",
    "version": 3
   },
   "file_extension": ".py",
   "mimetype": "text/x-python",
   "name": "python",
   "nbconvert_exporter": "python",
   "pygments_lexer": "ipython3",
   "version": "3.10.10"
  }
 },
 "nbformat": 4,
 "nbformat_minor": 5
}
